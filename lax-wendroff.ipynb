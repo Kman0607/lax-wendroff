{
 "cells": [
  {
   "cell_type": "code",
   "execution_count": 1,
   "metadata": {},
   "outputs": [],
   "source": [
    "from IPython.display import Latex"
   ]
  },
  {
   "cell_type": "code",
   "execution_count": 3,
   "metadata": {},
   "outputs": [
    {
     "data": {
      "text/latex": [
       "Solving Advection Equation with Lax-Wendroff method \\\\"
      ],
      "text/plain": [
       "<IPython.core.display.Latex object>"
      ]
     },
     "execution_count": 3,
     "metadata": {},
     "output_type": "execute_result"
    }
   ],
   "source": [
    "Latex(r\"\"\"Solving Advection Equation with Lax-Wendroff method \\\\\"\"\")"
   ]
  },
  {
   "cell_type": "code",
   "execution_count": 4,
   "metadata": {},
   "outputs": [
    {
     "data": {
      "text/latex": [
       "See the advection equation and lax-wendroff articles: https://en.wikipedia.org/wiki/Advection,  https://en.wikipedia.org/wiki/Lax%E2%80%93Wendroff_method if you need some theorical background."
      ],
      "text/plain": [
       "<IPython.core.display.Latex object>"
      ]
     },
     "execution_count": 4,
     "metadata": {},
     "output_type": "execute_result"
    }
   ],
   "source": [
    "Latex(r\"\"\"See the advection equation and lax-wendroff articles: https://en.wikipedia.org/wiki/Advection,  https://en.wikipedia.org/wiki/Lax%E2%80%93Wendroff_method if you need some theorical background.\"\"\")"
   ]
  },
  {
   "cell_type": "raw",
   "metadata": {},
   "source": [
    "The following packages will be necessary to solve the equation"
   ]
  },
  {
   "cell_type": "code",
   "execution_count": 3,
   "metadata": {},
   "outputs": [],
   "source": [
    "import math\n",
    "import numpy as np\n"
   ]
  },
  {
   "cell_type": "code",
   "execution_count": 4,
   "metadata": {},
   "outputs": [],
   "source": [
    "# make the grid\n",
    "Nx = 101 # number of x grid points for u\n",
    "xmax = 20 # x max value\n",
    "xmin = 0  # x min value\n",
    "dx = xmax/(Nx-1.) #x-grid width\n",
    "#start at x = 0\n",
    "xu = [dx*i for i in range(Nx)] # x-grid for u\n",
    "C = 1 #CFL condition, 0 < C <= 1\n",
    "dt = C * dx # t grid width, given by dt = C*dx (CFL condition)\n",
    "tmax = 1\n",
    "tmin = 0\n",
    "Nt = int((tmax-tmin)/dt) # number of t-grid points for u\n",
    "#start at t = 0\n",
    "tu = [dt*j for j in range(Nt)] #t-grid for u"
   ]
  },
  {
   "cell_type": "raw",
   "metadata": {},
   "source": [
    "Set the u(x,0) = f(x) initial condition"
   ]
  },
  {
   "cell_type": "code",
   "execution_count": 57,
   "metadata": {},
   "outputs": [
    {
     "name": "stdout",
     "output_type": "stream",
     "text": [
      "101\n",
      "101\n"
     ]
    }
   ],
   "source": [
    "u0 = []\n",
    "for i in range(len(xu)-int(len(xu)/2)):\n",
    "    u0.append(2)\n",
    "for i in range(0,int(len(xu)/2)):\n",
    "    u0.append(0)\n",
    "print(len(u0))\n",
    "print(len(xu))"
   ]
  },
  {
   "cell_type": "raw",
   "metadata": {},
   "source": [
    "Plotting the initial condition"
   ]
  },
  {
   "cell_type": "code",
   "execution_count": 58,
   "metadata": {
    "scrolled": true
   },
   "outputs": [
    {
     "data": {
      "text/plain": [
       "[<matplotlib.lines.Line2D at 0x7f068d750cf8>]"
      ]
     },
     "execution_count": 58,
     "metadata": {},
     "output_type": "execute_result"
    },
    {
     "data": {
      "image/png": "[encoded data removed]",
      "text/plain": [
       "<Figure size 432x288 with 1 Axes>"
      ]
     },
     "metadata": {},
     "output_type": "display_data"
    }
   ],
   "source": [
    "import matplotlib.pyplot as plt\n",
    "%matplotlib inline\n",
    "plt.plot(xu,u0)"
   ]
  },
  {
   "cell_type": "code",
   "execution_count": 45,
   "metadata": {},
   "outputs": [],
   "source": [
    "# set physical parameter:\n",
    "a = 1 # diffusion coefficient (?)"
   ]
  },
  {
   "cell_type": "raw",
   "metadata": {},
   "source": [
    "Model of the algorithm itself:"
   ]
  },
  {
   "cell_type": "raw",
   "metadata": {},
   "source": [
    "We start our draft, getting the solution for x = 0+dx = dx (Nx = 1)."
   ]
  },
  {
   "cell_type": "code",
   "execution_count": 46,
   "metadata": {},
   "outputs": [],
   "source": [
    "u1 = [u0[i] - a*dt*((u0[i+1]-u0[i-1])/(2*dx))+((a**2)*(dt**2))/2+(u0[i+1]-2*u0[i]+u0[i-1])/(dx**2) for i in range(1,Nx-1)]"
   ]
  },
  {
   "cell_type": "code",
   "execution_count": 47,
   "metadata": {},
   "outputs": [
    {
     "data": {
      "text/plain": [
       "[<matplotlib.lines.Line2D at 0x7f068d3462e8>]"
      ]
     },
     "execution_count": 47,
     "metadata": {},
     "output_type": "execute_result"
    },
    {
     "data": {
      "image/png": "[encoded data removed]",
      "text/plain": [
       "<Figure size 432x288 with 1 Axes>"
      ]
     },
     "metadata": {},
     "output_type": "display_data"
    }
   ],
   "source": [
    "plt.plot(xu[:len(xu)-2],u1)"
   ]
  },
  {
   "cell_type": "code",
   "execution_count": 48,
   "metadata": {},
   "outputs": [
    {
     "name": "stdout",
     "output_type": "stream",
     "text": [
      "Nx len\n",
      "101\n",
      "u0 len\n",
      "101\n",
      "u1 len\n",
      "99\n",
      "u2 len\n",
      "97\n"
     ]
    }
   ],
   "source": [
    "u = []\n",
    "u.append(u0)\n",
    "print(\"Nx len\")\n",
    "print(Nx)\n",
    "print(\"u0 len\")\n",
    "print(len(u0))\n",
    "u1 = [u[0][i] - a*dt*((u[0][i+1]-u[0][i-1])/(2*dx))+((a**2)*(dt**2))/2+(u[0][i+1]-2*u[0][i]+u[0][i-1])/(dx**2) for i in range(1,Nx-1)]\n",
    "print(\"u1 len\")\n",
    "print(len(u1))\n",
    "u.append(u1)\n",
    "u2 = [u1[i] - a*dt*((u1[i+1]-u1[i-1])/(2*dx))+((a**2)*(dt**2))/2+(u1[i+1]-2*u1[i]+u1[i-1])/(dx**2) for i in range(1,Nx-3)]\n",
    "print(\"u2 len\")\n",
    "print(len(u2))"
   ]
  },
  {
   "cell_type": "raw",
   "metadata": {},
   "source": [
    "Generalizing,"
   ]
  },
  {
   "cell_type": "raw",
   "metadata": {},
   "source": [
    "Using list comprehension: "
   ]
  },
  {
   "cell_type": "code",
   "execution_count": 53,
   "metadata": {},
   "outputs": [],
   "source": [
    "u = []\n",
    "u.append(u0)\n",
    "for j in range(1,Nt):\n",
    "    #here we lost some points and get list index out of range error\n",
    "    ux = [u[j-1][i] - a*dt*((u[j-1][i+1]-u[j-1][i-1])/(2*dx))+((a**2)*(dt**2))/2+(u[j-1][i+1]-2*u[j-1][i]+u[j-1][i-1])/(dx**2) for i in range(1,Nx-2*j)]\n",
    "    u.append(ux)"
   ]
  },
  {
   "cell_type": "raw",
   "metadata": {},
   "source": [
    "Nested loops version:"
   ]
  },
  {
   "cell_type": "code",
   "execution_count": 59,
   "metadata": {},
   "outputs": [],
   "source": [
    "u = []\n",
    "u.append(u0)\n",
    "for j in range(1,Nt):\n",
    "    for i in range(1,Nx-2*j):\n",
    "        ux = [u[j-1][i] - a*dt*((u[j-1][i+1]-u[j-1][i-1])/(2*dx))+((a**2)*(dt**2))/2+(u[j-1][i+1]-2*u[j-1][i]+u[j-1][i-1])/(dx**2) for i in range(1,Nx-2*j)]\n",
    "    u.append(ux)"
   ]
  },
  {
   "cell_type": "raw",
   "metadata": {},
   "source": [
    "Plotting:"
   ]
  },
  {
   "cell_type": "code",
   "execution_count": 66,
   "metadata": {},
   "outputs": [],
   "source": [
    "def plot(u,time):\n",
    "    plt.plot(xu[:len(xu)-2*time -1],u[time])"
   ]
  },
  {
   "cell_type": "code",
   "execution_count": 67,
   "metadata": {},
   "outputs": [
    {
     "data": {
      "image/png": "[encoded data removed]",
      "text/plain": [
       "<Figure size 432x288 with 1 Axes>"
      ]
     },
     "metadata": {},
     "output_type": "display_data"
    }
   ],
   "source": [
    "plot(u,1)"
   ]
  },
  {
   "cell_type": "code",
   "execution_count": null,
   "metadata": {},
   "outputs": [],
   "source": []
  }
 ],
 "metadata": {
  "kernelspec": {
   "display_name": "Python 3",
   "language": "python",
   "name": "python3"
  },
  "language_info": {
   "codemirror_mode": {
    "name": "ipython",
    "version": 3
   },
   "file_extension": ".py",
   "mimetype": "text/x-python",
   "name": "python",
   "nbconvert_exporter": "python",
   "pygments_lexer": "ipython3",
   "version": "3.6.5"
  }
 },
 "nbformat": 4,
 "nbformat_minor": 2
}
