{
 "cells": [
  {
   "cell_type": "raw",
   "metadata": {},
   "source": [
    "Solving Advection Equation with Lax-Wendroff method"
   ]
  },
  {
   "cell_type": "code",
   "execution_count": null,
   "metadata": {},
   "outputs": [],
   "source": [
    "import math\n",
    "import numpy as np\n"
   ]
  },
  {
   "cell_type": "code",
   "execution_count": 6,
   "metadata": {},
   "outputs": [],
   "source": [
    "# make the grid\n",
    "Nx = 101 # number of x grid points for u\n",
    "xmax = 20 # 0 <= x <= xmax\n",
    "dx = xmax/(Nx-1.) #x-grid width\n",
    "xu = [dx*i for i in range(Nx)] # x-grid for u\n",
    "C = 1 #CFL condition, 0 < C <= 1\n",
    "dt = C * dx # t grid width\n",
    "Nt = int((1-0)/dt) # number of t-grid points for u\n",
    "tu = [dt*j for j in range(Nt)] #t-grid for u"
   ]
  },
  {
   "cell_type": "code",
   "execution_count": null,
   "metadata": {},
   "outputs": [],
   "source": []
  }
 ],
 "metadata": {
  "kernelspec": {
   "display_name": "Python 3",
   "language": "python",
   "name": "python3"
  },
  "language_info": {
   "codemirror_mode": {
    "name": "ipython",
    "version": 3
   },
   "file_extension": ".py",
   "mimetype": "text/x-python",
   "name": "python",
   "nbconvert_exporter": "python",
   "pygments_lexer": "ipython3",
   "version": "3.6.5"
  }
 },
 "nbformat": 4,
 "nbformat_minor": 2
}
